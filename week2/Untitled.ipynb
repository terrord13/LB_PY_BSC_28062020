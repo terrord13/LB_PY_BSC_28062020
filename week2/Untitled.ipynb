{
 "cells": [
  {
   "cell_type": "code",
   "execution_count": 20,
   "metadata": {},
   "outputs": [
    {
     "name": "stdout",
     "output_type": "stream",
     "text": [
      "Enter a year2004\n",
      "year input:  2004\n",
      "not a leap year\n"
     ]
    }
   ],
   "source": [
    "#program to find leap year\n",
    "year = eval(input('Enter a year'))\n",
    "print('year input: ',year)\n",
    "\n",
    "if((year%4 == 0) & (year%100 == 0) & (year%400 == 0)):\n",
    "    print('leap year')\n",
    "else:\n",
    "    print('not a leap year')"
   ]
  },
  {
   "cell_type": "code",
   "execution_count": 9,
   "metadata": {},
   "outputs": [
    {
     "name": "stdout",
     "output_type": "stream",
     "text": [
      "['peter', 'piper', 'picked', 'a', 'peck', 'of', 'pickled', 'peppers']\n"
     ]
    }
   ],
   "source": [
    "#Write a python program to find below output using loop:-\n",
    "\n",
    "#Input:- 'peter piper picked a peck of pickled peppers.'\n",
    "#Output:- ['peter', 'piper', 'picked', 'a', 'peck', 'of', 'pickled', 'peppers']\n",
    "\n",
    "input = 'peter piper picked a peck of pickled peppers'\n",
    "output = []\n",
    "for i in input.split():\n",
    "    output.append(i)\n",
    "    \n",
    "print(output)"
   ]
  },
  {
   "cell_type": "code",
   "execution_count": 12,
   "metadata": {},
   "outputs": [
    {
     "name": "stdout",
     "output_type": "stream",
     "text": [
      "Python\n",
      "P\n",
      "y\n",
      "t\n",
      "h\n",
      "o\n",
      "n\n"
     ]
    }
   ],
   "source": [
    "input = 'Python'\n",
    "#'Rwvfql'\n",
    "print(input)\n",
    "for i in input:\n",
    "    print(i)"
   ]
  },
  {
   "cell_type": "code",
   "execution_count": 13,
   "metadata": {},
   "outputs": [
    {
     "name": "stdout",
     "output_type": "stream",
     "text": [
      "p\n",
      "e\n",
      "t\n",
      "e\n",
      "r\n",
      " \n",
      "p\n",
      "i\n",
      "p\n",
      "e\n",
      "r\n",
      " \n",
      "p\n",
      "i\n",
      "c\n",
      "k\n",
      "e\n",
      "d\n",
      " \n",
      "a\n",
      " \n",
      "p\n",
      "e\n",
      "c\n",
      "k\n",
      " \n",
      "o\n",
      "f\n",
      " \n",
      "p\n",
      "i\n",
      "c\n",
      "k\n",
      "l\n",
      "e\n",
      "d\n",
      " \n",
      "p\n",
      "e\n",
      "p\n",
      "p\n",
      "e\n",
      "r\n",
      "s\n",
      ".\n"
     ]
    }
   ],
   "source": [
    "#Input:- 'peter piper picked a peck of pickled peppers.'\n",
    "input = 'peter piper picked a peck of pickled peppers.'\n",
    "for i in input:\n",
    "    print(i)"
   ]
  }
 ],
 "metadata": {
  "kernelspec": {
   "display_name": "Python 3",
   "language": "python",
   "name": "python3"
  },
  "language_info": {
   "codemirror_mode": {
    "name": "ipython",
    "version": 3
   },
   "file_extension": ".py",
   "mimetype": "text/x-python",
   "name": "python",
   "nbconvert_exporter": "python",
   "pygments_lexer": "ipython3",
   "version": "3.7.6"
  }
 },
 "nbformat": 4,
 "nbformat_minor": 4
}
