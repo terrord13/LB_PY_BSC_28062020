{
 "cells": [
  {
   "cell_type": "markdown",
   "metadata": {
    "colab_type": "text",
    "id": "wNRNTbrsc53d"
   },
   "source": [
    "# If - elif - else statement"
   ]
  },
  {
   "cell_type": "code",
   "execution_count": 7,
   "metadata": {
    "colab": {},
    "colab_type": "code",
    "id": "MiPfTnBycxNa"
   },
   "outputs": [
    {
     "name": "stdout",
     "output_type": "stream",
     "text": [
      "1\n",
      "One\n"
     ]
    }
   ],
   "source": [
    "#W. A P. which takes one number from 0 to 9 from the user and prints it in the word. And if the word is not from 0 to 9 then\n",
    "#it should print that number is outside of the range and program should exit.\n",
    "# For exapmple:- \n",
    "# input = 1\n",
    "# output = one\n",
    "\n",
    "inputNum = eval(input())\n",
    "if(inputNum == 1):\n",
    "    output = \"One\"\n",
    "elif(inputNum == 2):\n",
    "    output = \"Two\"\n",
    "elif(inputNum == 3):\n",
    "    output = \"Three\"\n",
    "elif(inputNum == 4):\n",
    "    output = \"Four\"\n",
    "elif(inputNum == 5):\n",
    "    output = \"Five\"\n",
    "elif(inputNum == 6):\n",
    "    output = \"Six\"\n",
    "elif(inputNum == 7):\n",
    "    output = \"Seven\"\n",
    "elif(inputNum == 8):\n",
    "    output = \"Eight\"\n",
    "elif(inputNum == 9):\n",
    "    output = \"Nine\"\n",
    "else:\n",
    "    output = \"Not a valid number\"\n",
    "print(output)"
   ]
  },
  {
   "cell_type": "code",
   "execution_count": 23,
   "metadata": {
    "colab": {},
    "colab_type": "code",
    "id": "vEMNOv9zdA39"
   },
   "outputs": [
    {
     "name": "stdout",
     "output_type": "stream",
     "text": [
      "7\n",
      "16\n"
     ]
    }
   ],
   "source": [
    "#W. A P. to implement calculator but the operation to be done and two numbers will be taken as input from user:-\n",
    "#Operation console should show below:-\n",
    "#     Please select any one operation from below:-\n",
    "#         * To add enter 1\n",
    "#         * to subtract enter 2\n",
    "#         * To multiply enter 3\n",
    "#         * To divide enter 4\n",
    "#         * To divide and find quotient enter 5\n",
    "#         * To divide and find remainder enter 6\n",
    "#         * To divide and find num1 to the power of num2 enter 7\n",
    "#         * To Come out of the program enter 8\n",
    "\n",
    "num1 = 2\n",
    "num2 = 4\n",
    "inputOperation = eval(input())\n",
    "\n",
    "if(inputOperation == 1):\n",
    "    operation = num1 + num2\n",
    "elif(inputOperation == 2):\n",
    "    operation = num1 - num2\n",
    "elif(inputOperation == 3):\n",
    "    operation = num1 * num2\n",
    "elif(inputOperation == 4):\n",
    "    operation = num1 / num2\n",
    "elif(inputOperation == 5):\n",
    "    operation = num1 // num2\n",
    "elif(inputOperation == 6):\n",
    "    operation = num1 % num2\n",
    "elif(inputOperation == 7):\n",
    "    operation = num1 ** num2\n",
    "else:\n",
    "    operation = \"No Valid Operation\"\n",
    "print(operation)\n",
    "\n"
   ]
  },
  {
   "cell_type": "code",
   "execution_count": 36,
   "metadata": {
    "colab": {},
    "colab_type": "code",
    "id": "1e2gwYLqdC1s"
   },
   "outputs": [
    {
     "name": "stdout",
     "output_type": "stream",
     "text": [
      "Enter a year1200\n",
      "leap year\n"
     ]
    }
   ],
   "source": [
    "#W A P to check whether a year entered by user is an leap year or not?\n",
    "#Check with below input:-\n",
    "    #leap year:- 2012, 1968, 2004, 1200, 1600,2400\n",
    "    #Non-lear year:- 1971, 2006, 1700,1800,1900\n",
    "\n",
    "year = eval(input('Enter a year'))\n",
    "\n",
    "if (year % 4) == 0:\n",
    "    if(year % 100) == 0:\n",
    "        if(year % 400) == 0:\n",
    "            print(\"leap year\")\n",
    "        else:\n",
    "            print(\"not a leap year\")\n",
    "    else:\n",
    "        print(\"leap year\")\n",
    "else:\n",
    "    print(\"not a leap year\")"
   ]
  },
  {
   "cell_type": "code",
   "execution_count": 43,
   "metadata": {
    "colab": {},
    "colab_type": "code",
    "id": "_tpXv1EtdEre"
   },
   "outputs": [
    {
     "name": "stdout",
     "output_type": "stream",
     "text": [
      "Enter a number2\n",
      "Nunmber is Even number\n"
     ]
    }
   ],
   "source": [
    "#W A P which takes one number from the user and checks whether it is an even or odd number?, If it even then prints number is \n",
    "#even number else prints that number is odd number.\n",
    "inputNum = eval(input('Enter a number'))\n",
    "if(inputNum%2 == 0):\n",
    "    print(\"Nunmber is Even number\")\n",
    "else:\n",
    "    print(\"Number is odd number\")\n"
   ]
  },
  {
   "cell_type": "code",
   "execution_count": 47,
   "metadata": {
    "colab": {},
    "colab_type": "code",
    "id": "Q1HumymCdG6i"
   },
   "outputs": [
    {
     "name": "stdout",
     "output_type": "stream",
     "text": [
      "Enter first number4\n",
      "Enter Second number2\n",
      "Number 1 is greter than number 2\n"
     ]
    }
   ],
   "source": [
    "#W A P which takes two numbers from the user and prints below output:-\n",
    "#     1. num1 is greater than num2 if num1 is greater than num2\n",
    "#     2. num1 is smaller than num2 if num1 is smaller than num2\n",
    "#     3. num1 is equal to num2 if num1 and num2 are equal\n",
    "\n",
    "#Note:- 1. Do this problem using if - else \n",
    "#       2. Do this using ternary operator\n",
    "\n",
    "inputNum1 = eval(input('Enter first number'))\n",
    "inputNum2 = eval(input('Enter Second number'))\n",
    "if(inputNum1 > inputNum2):\n",
    "    print(\"Number 1 is greter than number 2\")\n",
    "elif(inputNum1 < inputNum2):\n",
    "    print(\"Number 1 is smaller than number 2\")\n",
    "elif(inputNum1 == inputNum2):\n",
    "    print(\"Number 1 is equal to number 2\")\n",
    "else:\n",
    "    print(\"No Match Fount\")\n",
    "    \n"
   ]
  },
  {
   "cell_type": "code",
   "execution_count": 50,
   "metadata": {
    "colab": {},
    "colab_type": "code",
    "id": "LR6TVB-DdOPf"
   },
   "outputs": [
    {
     "name": "stdout",
     "output_type": "stream",
     "text": [
      "Enter first number2\n",
      "Enter Second number4\n",
      "Enter Third number5\n",
      "num3 is largest than num1 and num2\n"
     ]
    }
   ],
   "source": [
    "#W A P which takes three numbers from the user and prints below output:-\n",
    "#     1. num1 is greater than num2 and num3 if num1 is greater than num2 and num3\n",
    "#     2. num2 is greater than num1 and num3 if num2 is greater than num1 and num3\n",
    "#     3. num3 is greater than num1 and num2 if num3 is greater than num1 and num2\n",
    "\n",
    "#Note:- 1. Do this problem using if - elif - else \n",
    "#       2. Do this using ternary operator\n",
    "\n",
    "num1 = eval(input('Enter first number'))\n",
    "num2 = eval(input('Enter Second number'))\n",
    "num3 = eval(input('Enter Third number'))\n",
    "\n",
    "if (num1 >= num2) and (num1 >= num3):\n",
    "    largest = \"num1 is largest than num2 and num3\"\n",
    "elif (num2 >= num1) and (num2 >= num3):\n",
    "    largest = \"num2 is largest than num1 and num3\"\n",
    "else:\n",
    "    largest = \"num3 is largest than num1 and num2\"\n",
    "print(largest)\n",
    "    "
   ]
  },
  {
   "cell_type": "markdown",
   "metadata": {
    "colab_type": "text",
    "id": "IoOLQMUGdSox"
   },
   "source": [
    "# Loops - for loop, while loop"
   ]
  },
  {
   "cell_type": "code",
   "execution_count": 54,
   "metadata": {
    "colab": {},
    "colab_type": "code",
    "id": "9K23Uld8dQfA"
   },
   "outputs": [
    {
     "name": "stdout",
     "output_type": "stream",
     "text": [
      "55\n"
     ]
    }
   ],
   "source": [
    "#Write a Python program to find the length of the my_str using loop:-\n",
    "\n",
    "#Input:- 'Write a Python program to find the length of the my_str'\n",
    "#Output:- 55\n",
    "\n",
    "inputStr = 'Write a Python program to find the length of the my_str'\n",
    "j = 0\n",
    "for i in inputStr:\n",
    "    j += 1\n",
    "print(j)\n"
   ]
  },
  {
   "cell_type": "code",
   "execution_count": 55,
   "metadata": {
    "colab": {},
    "colab_type": "code",
    "id": "bp6AcqTsdYxy"
   },
   "outputs": [
    {
     "data": {
      "text/plain": [
       "9"
      ]
     },
     "execution_count": 55,
     "metadata": {},
     "output_type": "execute_result"
    }
   ],
   "source": [
    "#Write a Python program to find the total number of times letter 'p' is appeared in the below string using loop:-\n",
    "    \n",
    "#Input:- 'peter piper picked a peck of pickled peppers.\\n'\n",
    "#Output:- 9\n",
    "\n",
    "inputStr = 'peter piper picked a peck of pickled peppers.\\n'\n",
    "inputStr.count('p')\n"
   ]
  },
  {
   "cell_type": "code",
   "execution_count": 58,
   "metadata": {
    "colab": {},
    "colab_type": "code",
    "id": "xvxSBhTJdav1"
   },
   "outputs": [
    {
     "name": "stdout",
     "output_type": "stream",
     "text": [
      "0\n",
      "6\n",
      "8\n",
      "12\n",
      "21\n",
      "29\n",
      "37\n",
      "39\n",
      "40\n"
     ]
    }
   ],
   "source": [
    "#Write a Python Program, to print all the indexes of all occurences of letter 'p' appeared in the string using loop:-\n",
    "    \n",
    "#Input:- 'peter piper picked a peck of pickled peppers.'\n",
    "#Output:- \n",
    "# 0\n",
    "# 6\n",
    "# 8\n",
    "# 12\n",
    "# 21\n",
    "# 29\n",
    "# 37\n",
    "# 39\n",
    "# 40\n",
    "inputStr = 'peter piper picked a peck of pickled peppers.'\n",
    "for element in range(0, len(inputStr)): \n",
    "    if(inputStr[element] == 'p'):\n",
    "        print(element)"
   ]
  },
  {
   "cell_type": "code",
   "execution_count": 75,
   "metadata": {
    "colab": {},
    "colab_type": "code",
    "id": "79L_feMadbmw"
   },
   "outputs": [
    {
     "name": "stdout",
     "output_type": "stream",
     "text": [
      "['peter', 'piper', 'picked', 'a', 'peck', 'of', 'pickled', 'peppers']\n"
     ]
    }
   ],
   "source": [
    "#Write a python program to find below output using loop:-\n",
    "\n",
    "#Input:- 'peter piper picked a peck of pickled peppers.'\n",
    "#Output:- ['peter', 'piper', 'picked', 'a', 'peck', 'of', 'pickled', 'peppers']\n",
    "\n",
    "inputStr = 'peter piper picked a peck of pickled peppers.'\n",
    "outputList = []\n",
    "word = \"\"\n",
    "for i in inputStr:\n",
    "    if(i != ' ' and i != '.'):\n",
    "        word += i\n",
    "    else:\n",
    "        outputList.append(word)\n",
    "        word = \"\" \n",
    "print(outputList)"
   ]
  },
  {
   "cell_type": "code",
   "execution_count": 246,
   "metadata": {
    "colab": {},
    "colab_type": "code",
    "id": "vzs5AJ53deVS"
   },
   "outputs": [
    {
     "name": "stdout",
     "output_type": "stream",
     "text": [
      "peppers pickled of peck a picked piper \n"
     ]
    }
   ],
   "source": [
    "#Write a python program to find below output using loop:-\n",
    "\n",
    "#Input:- 'peter piper picked a peck of pickled peppers'\n",
    "#Output:- 'peppers pickled of peck a picked piper peter'\n",
    "\n",
    "\n",
    "\n",
    "inputStr = 'peter piper picked a peck of pickled peppers'\n",
    "outputStr= \"\"\n",
    "word = \"\"\n",
    "for i in range(len(inputStr)-1, 0-1, -1):\n",
    "    if(inputStr[i] != ' ' and inputStr[i] != ' '):\n",
    "        word += inputStr[i]\n",
    "    else:\n",
    "        outputStr +=  word[::-1]+' '\n",
    "        word = \"\"\n",
    "print(outputStr)\n",
    "\n",
    "    \n"
   ]
  },
  {
   "cell_type": "code",
   "execution_count": 79,
   "metadata": {
    "colab": {},
    "colab_type": "code",
    "id": "i-HP7DrCdhwS"
   },
   "outputs": [
    {
     "name": "stdout",
     "output_type": "stream",
     "text": [
      ".sreppep delkcip fo kcep a dekcip repip retep\n"
     ]
    }
   ],
   "source": [
    "#Write a python program to find below output using loop:-\n",
    "\n",
    "#Input:- 'peter piper picked a peck of pickled peppers.'\n",
    "#Output:- '.sreppep delkcip fo kcep a dekcip repip retep'\n",
    "\n",
    "inputStr = 'peter piper picked a peck of pickled peppers.'\n",
    "new_string = ''\n",
    "index = len(inputStr)\n",
    "while index:\n",
    "    index -= 1                    \n",
    "    new_string += inputStr[index] \n",
    "print(new_string)"
   ]
  },
  {
   "cell_type": "code",
   "execution_count": 80,
   "metadata": {
    "colab": {},
    "colab_type": "code",
    "id": "3rt6p0ytdkq0"
   },
   "outputs": [
    {
     "name": "stdout",
     "output_type": "stream",
     "text": [
      "retep repip dekcip a kcep fo delkcip sreppep \n"
     ]
    }
   ],
   "source": [
    "#Write a python program to find below output using loop:-\n",
    "\n",
    "#Input:- 'peter piper picked a peck of pickled peppers.'\n",
    "#Output:- 'retep repip dekcip a kcep fo delkcip sreppep'\n",
    "\n",
    "inputStr = 'peter piper picked a peck of pickled peppers.'\n",
    "outputStr = \"\"\n",
    "for i in inputStr:\n",
    "    if(i != ' ' and i != '.'):\n",
    "        word += i\n",
    "    else:\n",
    "        new_string = ''\n",
    "        index = len(word)\n",
    "        while index:\n",
    "            index -= 1                    \n",
    "            new_string += word[index]\n",
    "        word = \"\"\n",
    "        outputStr += new_string+' '\n",
    "print(outputStr)\n"
   ]
  },
  {
   "cell_type": "code",
   "execution_count": 87,
   "metadata": {
    "colab": {},
    "colab_type": "code",
    "id": "HdlAWgT2dnKO"
   },
   "outputs": [
    {
     "name": "stdout",
     "output_type": "stream",
     "text": [
      "Peter Piper Picked A Peck Of Pickled Peppers \n"
     ]
    }
   ],
   "source": [
    "#Write a python program to find below output using loop:-\n",
    "\n",
    "#Input:- 'peter piper picked a peck of pickled peppers.'\n",
    "#Output:- 'Peter Piper Picked A Peck Of Pickled Peppers'\n",
    "\n",
    "inputStr = 'peter piper picked a peck of pickled peppers.'\n",
    "outputStr = \"\"\n",
    "word = \"\"\n",
    "for i in inputStr:\n",
    "    if(i != ' ' and i != '.'):\n",
    "        if(j == 1):\n",
    "            i = i.upper()\n",
    "        word += i\n",
    "        j +=1\n",
    "    else:\n",
    "        outputStr += word+\" \"\n",
    "        word = \"\"\n",
    "        j = 1\n",
    "print(outputStr)\n"
   ]
  },
  {
   "cell_type": "code",
   "execution_count": 2,
   "metadata": {
    "colab": {},
    "colab_type": "code",
    "id": "OthUuacodrNl"
   },
   "outputs": [
    {
     "name": "stdout",
     "output_type": "stream",
     "text": [
      "Peter piper picked a peck of pickled peppers \n"
     ]
    }
   ],
   "source": [
    "#Write a python program to find below output using loop:-\n",
    "\n",
    "#Input:- 'Peter Piper Picked A Peck Of Pickled Peppers.'\n",
    "#Output:- 'Peter piper picked a peck of pickled peppers'\n",
    "\n",
    "inputStr = 'Peter Piper Picked A Peck Of Pickled Peppers.'\n",
    "outputStr = \"\"\n",
    "word = \"\"\n",
    "k = 0\n",
    "j =1\n",
    "for i in inputStr:\n",
    "    if(i != ' ' and i != '.'):\n",
    "        if(k == 0):\n",
    "            i = i.upper()\n",
    "        if(j == 1 and k !=0):\n",
    "            i = i.lower()\n",
    "        word += i\n",
    "        j +=1\n",
    "    else:\n",
    "        outputStr += word+\" \"\n",
    "        word = \"\"\n",
    "        j = 1\n",
    "    k+=1\n",
    "print(outputStr)"
   ]
  },
  {
   "cell_type": "code",
   "execution_count": 185,
   "metadata": {
    "colab": {},
    "colab_type": "code",
    "id": "scmDJE-ldsI9"
   },
   "outputs": [
    {
     "name": "stdout",
     "output_type": "stream",
     "text": [
      "29\n"
     ]
    }
   ],
   "source": [
    "#Write a python program to implement index method using loop. If sub_str is found in my_str then it will print the index\n",
    "# of first occurrence of first character of matching string in my_str:-\n",
    "\n",
    "#Input:- my_str = 'Peter Piper Picked A Peck Of Pickled Peppers.', sub_str = 'Pickl'\n",
    "#Output:- 29\n",
    "\n",
    "\n",
    "my_str = 'Peter Piper Picked A Peck Of Pickled Peppers.'\n",
    "sub_str = 'Pickl'\n",
    "length=len(sub_str)\n",
    "k = 1\n",
    "word =\"\"\n",
    "wordVal = 0 \n",
    "for i in range(len(my_str)):\n",
    "    for j in sub_str:\n",
    "        if(j == my_str[i]):\n",
    "            word += j\n",
    "        if(sub_str in word):\n",
    "            if(wordVal == 0):\n",
    "                wordVal = k  \n",
    "    k+=1\n",
    "print(wordVal-length)\n",
    "    \n",
    "\n"
   ]
  },
  {
   "cell_type": "code",
   "execution_count": 149,
   "metadata": {
    "colab": {},
    "colab_type": "code",
    "id": "Kq_fwdb_dvYE"
   },
   "outputs": [
    {
     "name": "stdout",
     "output_type": "stream",
     "text": [
      "Peter Piper Picked A Pack Of Pickled Peppers.\n"
     ]
    }
   ],
   "source": [
    "#Write a python program to implement replace method using loop. If sub_str is found in my_str then it will replace the first \n",
    "#occurrence of sub_str with new_str else it will will print sub_str not found:-\n",
    "\n",
    "#Input:- my_str = 'Peter Piper Picked A Peck Of Pickled Peppers.', sub_str = 'Peck', new_str = 'Pack'\n",
    "#Output:- 'Peter Piper Picked A Pack Of Pickled Peppers.'\n",
    "\n",
    "my_str = 'Peter Piper Picked A Peck Of Pickled Peppers.'\n",
    "sub_str = 'Peck'\n",
    "new_str = 'Pack'\n",
    "outputStr = []\n",
    "length=len(sub_str)\n",
    "k = 1\n",
    "word =\"\"\n",
    "wordVal = 0 \n",
    "for i in range(len(my_str)):\n",
    "    for j in sub_str:\n",
    "        if(j == my_str[i]):\n",
    "            word += j\n",
    "        if(sub_str in word):\n",
    "            if(wordVal == 0):\n",
    "                wordVal = k  \n",
    "    k+=1\n",
    "    outputStr.append(my_str[i])\n",
    "indexToChnage = wordVal-length\n",
    "t = 0\n",
    "while t < length:\n",
    "    outputStr[indexToChnage] = new_str[t]\n",
    "    t+=1\n",
    "    indexToChnage+=1\n",
    "outputStr = \"\".join(outputStr)\n",
    "print(outputStr)"
   ]
  },
  {
   "cell_type": "code",
   "execution_count": 154,
   "metadata": {
    "colab": {},
    "colab_type": "code",
    "id": "4Qes5D0cdyd1"
   },
   "outputs": [
    {
     "name": "stdout",
     "output_type": "stream",
     "text": [
      "25\n",
      "*********************Peck********************\n"
     ]
    }
   ],
   "source": [
    "#Write a python program to find below output (implements rjust and ljust) using loop:-\n",
    "\n",
    "#Input:- 'Peter Piper Picked A Peck Of Pickled Peppers.', sub_str = 'Peck', \n",
    "#Output:- '*********************Peck********************'\n",
    "\n",
    "my_str = 'Peter Piper Picked A Peck Of Pickled Peppers.'\n",
    "sub_str = 'Peck'\n",
    "new_str = 'Pack'\n",
    "outputStr = []\n",
    "length=len(sub_str)\n",
    "k = 1\n",
    "word =\"\"\n",
    "wordVal = 0 \n",
    "for i in range(len(my_str)):\n",
    "    for j in sub_str:\n",
    "        if(j == my_str[i]):\n",
    "            word += j\n",
    "        if(sub_str in word):\n",
    "            if(wordVal == 0):\n",
    "                wordVal = k  \n",
    "    k+=1\n",
    "    outputStr.append(my_str[i])\n",
    "indexToChnage = wordVal-length\n",
    "l = 0\n",
    "while l < indexToChnage:\n",
    "    outputStr[l] = '*'\n",
    "    l+=1\n",
    "\n",
    "indexToChnage = length + indexToChnage\n",
    "print(indexToChnage)\n",
    "while indexToChnage < len(my_str):\n",
    "    outputStr[indexToChnage] = '*'\n",
    "    indexToChnage+=1\n",
    "outputStr = \"\".join(outputStr)\n",
    "print(outputStr) \n"
   ]
  },
  {
   "cell_type": "code",
   "execution_count": 211,
   "metadata": {
    "colab": {},
    "colab_type": "code",
    "id": "DsOrb07Od0lR"
   },
   "outputs": [
    {
     "name": "stdout",
     "output_type": "stream",
     "text": [
      "['This', 'is', ' Python class']\n"
     ]
    }
   ],
   "source": [
    "#Write a python program to find below output using loop:-\n",
    "\n",
    "#Input:- 'This is Python class', sep = 'is', \n",
    "#Output:- ['This', 'is', 'Python class']\n",
    "\n",
    "\n",
    "\n",
    "my_str = 'This is Python class'\n",
    "sub_str = 'is'\n",
    "length=len(sub_str)\n",
    "tempOutputStr = []\n",
    "OutputList=[]\n",
    "k = 1\n",
    "word =\"\"\n",
    "wordVal = 0 \n",
    "for i in range(len(my_str)):\n",
    "    for j in sub_str:\n",
    "        if(j == my_str[i]):\n",
    "            word += j\n",
    "        if(sub_str in word):\n",
    "            wordVal = k\n",
    "            word = ''\n",
    "    k+=1\n",
    "indexValue = wordVal-length\n",
    "l = 0\n",
    "while l < indexValue:\n",
    "    if(my_str[l] != \" \"):\n",
    "        tempOutputStr.append(my_str[l])\n",
    "    l+=1   \n",
    "tempOutputStr1 = \"\".join(tempOutputStr)\n",
    "OutputList.append(tempOutputStr1)\n",
    "tempOutputStr = []\n",
    "\n",
    "while indexValue < wordVal:\n",
    "    if(my_str[indexValue] != \" \"):\n",
    "        tempOutputStr.append(my_str[indexValue])\n",
    "    indexValue+=1\n",
    "tempOutputStr1 = \"\".join(tempOutputStr)\n",
    "OutputList.append(tempOutputStr1)\n",
    "tempOutputStr = []\n",
    "while wordVal < len(my_str):\n",
    "    tempOutputStr.append(my_str[wordVal])\n",
    "    wordVal+=1\n",
    "\n",
    "tempOutputStr1 = \"\".join(tempOutputStr)\n",
    "OutputList.append(tempOutputStr1)\n",
    "print(OutputList)\n",
    "    \n",
    "\n",
    "\n",
    "\n",
    "\n"
   ]
  },
  {
   "cell_type": "code",
   "execution_count": 228,
   "metadata": {
    "colab": {},
    "colab_type": "code",
    "id": "jRnBVufmd2Ay"
   },
   "outputs": [
    {
     "name": "stdout",
     "output_type": "stream",
     "text": [
      "Input 1:  Python\n",
      "Output 1:  R{vjqp\n",
      "Input 2:  Python\n",
      "Output 2:  Rwvfql\n",
      "Input 3:  Python\n",
      "Output 3:  R{vfml\n"
     ]
    }
   ],
   "source": [
    "#Write a python program which takes one input string from user and encode it in below format:-\n",
    "#     1. #Input:- 'Python'\n",
    "#        #Output:- 'R{vjqp'\n",
    "        \n",
    "        \n",
    "        \n",
    "        \n",
    "        \n",
    "\n",
    "#     2. #Input:- 'Python'\n",
    "#        #Output:- 'Rwvfql'\n",
    "        \n",
    "        \n",
    "        \n",
    "        \n",
    "        \n",
    "#     3. #Input:- 'Python'\n",
    "#        #Output:- 'R{vfml'\n",
    "        \n",
    "       \n",
    "    \n",
    "inputVal1 = 'Python'\n",
    "outputStr = \"\"\n",
    "for i in inputVal1:\n",
    "    outputStr+=chr(ord(i)+2)\n",
    "print(\"Input 1: \",inputVal1)\n",
    "print(\"Output 1: \",outputStr)\n",
    "        \n",
    "\n",
    "inputVal2 = 'Python'\n",
    "outputStr2 = \"\"\n",
    "for i in range(len(inputVal2)):\n",
    "    if(i%2==0):\n",
    "        outputStr2+=chr(ord(inputVal2[i])+2)\n",
    "    else:\n",
    "        outputStr2+=chr(ord(inputVal2[i])-2)\n",
    "print(\"Input 2: \",inputVal2)\n",
    "print(\"Output 2: \",outputStr2)\n",
    "\n",
    "\n",
    "inputVal3 = 'Python'\n",
    "outputStr3 = \"\"\n",
    "for i in range(len(inputVal3)):\n",
    "    if(i >= 3):\n",
    "        outputStr3+=chr(ord(inputVal3[i])-2)\n",
    "    else:\n",
    "        outputStr3+=chr(ord(inputVal3[i])+2)\n",
    "print(\"Input 3: \",inputVal3)\n",
    "print(\"Output 3: \",outputStr3)"
   ]
  }
 ],
 "metadata": {
  "colab": {
   "name": "Conditional_and_loop_assignment.ipynb",
   "provenance": []
  },
  "kernelspec": {
   "display_name": "Python 3",
   "language": "python",
   "name": "python3"
  },
  "language_info": {
   "codemirror_mode": {
    "name": "ipython",
    "version": 3
   },
   "file_extension": ".py",
   "mimetype": "text/x-python",
   "name": "python",
   "nbconvert_exporter": "python",
   "pygments_lexer": "ipython3",
   "version": "3.7.6"
  }
 },
 "nbformat": 4,
 "nbformat_minor": 1
}
