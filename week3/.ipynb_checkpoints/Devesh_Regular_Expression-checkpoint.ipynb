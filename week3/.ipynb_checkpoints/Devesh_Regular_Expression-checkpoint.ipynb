{
 "cells": [
  {
   "cell_type": "code",
   "execution_count": 18,
   "metadata": {
    "colab": {},
    "colab_type": "code",
    "id": "xMLU30SQxZCH"
   },
   "outputs": [
    {
     "name": "stdout",
     "output_type": "stream",
     "text": [
      "cat\n"
     ]
    }
   ],
   "source": [
    "#Write the regular expression and use proper method which gives output as:- 'cat' in str.\n",
    "import re\n",
    "str = 'cat mat bat rat'\n",
    "reg = r\"cat\"\n",
    "res = re.match(reg, str)\n",
    "print(res.group())\n"
   ]
  },
  {
   "cell_type": "code",
   "execution_count": 20,
   "metadata": {
    "colab": {},
    "colab_type": "code",
    "id": "zMiSTGMHx6Dv"
   },
   "outputs": [
    {
     "name": "stdout",
     "output_type": "stream",
     "text": [
      "['rat']\n"
     ]
    }
   ],
   "source": [
    "#Write the regular expression and use proper method which gives output as:- 'rat' in str.\n",
    "import re\n",
    "str = 'cat mat bat rat'\n",
    "print(re.findall('rat', str))"
   ]
  },
  {
   "cell_type": "code",
   "execution_count": 27,
   "metadata": {
    "colab": {},
    "colab_type": "code",
    "id": "qBoYFjf5x6Mm"
   },
   "outputs": [
    {
     "name": "stdout",
     "output_type": "stream",
     "text": [
      "['mat', 'man']\n"
     ]
    }
   ],
   "source": [
    "#Write the regular expression and use proper method which gives output as:- ['mat', 'man'] in str.\n",
    "import re\n",
    "str = 'cat mat bat rat man'\n",
    "reg = r\"m\\w\\w\"\n",
    "res = re.findall(reg, str)\n",
    "print(res)\n"
   ]
  },
  {
   "cell_type": "code",
   "execution_count": 110,
   "metadata": {
    "colab": {},
    "colab_type": "code",
    "id": "qmxmqzX_x6QR"
   },
   "outputs": [
    {
     "name": "stdout",
     "output_type": "stream",
     "text": [
      "['Python', 's', 'Programming', '', 'is', 'very', 'easy', 'to', 'learn']\n"
     ]
    }
   ],
   "source": [
    "#Write the regular expression and use proper method which gives output as:- \n",
    "#['Python', 's', 'Programming', is', 'very', 'easy', 'to', 'learn'] in str.\n",
    "import re\n",
    "str = \"Python's Programming: is very easy to learn\"\n",
    "reg = r\"\\s|\\W\"\n",
    "import re\n",
    "res = re.split(reg, str)\n",
    "print(res)\n",
    "\n"
   ]
  },
  {
   "cell_type": "code",
   "execution_count": 115,
   "metadata": {
    "colab": {},
    "colab_type": "code",
    "id": "LxGl1o7px6Vi"
   },
   "outputs": [
    {
     "name": "stdout",
     "output_type": "stream",
     "text": [
      "Python Programming: is very easy to learn\n"
     ]
    }
   ],
   "source": [
    "#Write the regular expression and use proper method which gives output as:- Python Programming: is very easy to learn in str.\n",
    "import re\n",
    "str = \"Python's Programming: is very easy to learn\"\n",
    "reg = r\"\\Ws\"\n",
    "import re\n",
    "res = re.sub(reg,'', str)\n",
    "print(res)\n"
   ]
  },
  {
   "cell_type": "code",
   "execution_count": 106,
   "metadata": {
    "colab": {},
    "colab_type": "code",
    "id": "9uIpb614x6Yb"
   },
   "outputs": [
    {
     "name": "stdout",
     "output_type": "stream",
     "text": [
      "['peter', 'per', 'picked', 'peck', 'pickled', 'peppers']\n"
     ]
    }
   ],
   "source": [
    "#Write the regular expression and use proper method which Retrieves all words starting with p.\n",
    "#Output:- ['peter', 'per', 'picked', 'peck', 'pickled', 'peppers']\n",
    "import re\n",
    "str = \"peter giper picked a peck of pickled peppers\"\n",
    "reg = r'p\\w+'\n",
    "res = re.findall(reg,str)\n",
    "print(res)"
   ]
  },
  {
   "cell_type": "code",
   "execution_count": 107,
   "metadata": {
    "colab": {},
    "colab_type": "code",
    "id": "N0vFkePdx6bN"
   },
   "outputs": [
    {
     "name": "stdout",
     "output_type": "stream",
     "text": [
      "['peter', 'picked', 'peck', 'pickled', 'peppers']\n"
     ]
    }
   ],
   "source": [
    "#Write the regular expression and use proper method which Retrieves all words starting with p except 'per' which is not a separate word.\n",
    "#Output:- ['peter', 'picked', 'peck', 'pickled', 'peppers']\n",
    "import re\n",
    "str = \"peter giper picked a peck of pickled peppers\"\n",
    "reg = r'\\bp\\w+'\n",
    "res = re.findall(reg,str)\n",
    "print(res)"
   ]
  },
  {
   "cell_type": "code",
   "execution_count": 109,
   "metadata": {
    "colab": {},
    "colab_type": "code",
    "id": "mbiypO3yx6eE"
   },
   "outputs": [
    {
     "name": "stdout",
     "output_type": "stream",
     "text": [
      "['8th', '11th']\n"
     ]
    }
   ],
   "source": [
    "#Write the regular expression and use proper method which Retrieves all words starting with a digit.\n",
    "#Output:- ['8th', '11th']\n",
    "import re\n",
    "str = 'The election in delhi will be held on 8th and result for the same will be declared on 11th'\n",
    "reg = r'\\d\\w+'\n",
    "res = re.findall(reg,str)\n",
    "print(res)"
   ]
  },
  {
   "cell_type": "code",
   "execution_count": 105,
   "metadata": {
    "colab": {},
    "colab_type": "code",
    "id": "6ZUWWd6bx6g8"
   },
   "outputs": [
    {
     "name": "stdout",
     "output_type": "stream",
     "text": [
      "['peter', 'giper']\n"
     ]
    }
   ],
   "source": [
    "#Write the regular expression and use proper method which Retrieves all words having 5 characters.\n",
    "#Output:- ['peter', 'giper']\n",
    "import re\n",
    "str = \"peter giper picked a peck of pickled peppers\"\n",
    "reg = r'\\b\\w{5}\\b'\n",
    "res = re.findall(reg,str)\n",
    "print(res)"
   ]
  },
  {
   "cell_type": "code",
   "execution_count": 92,
   "metadata": {
    "colab": {},
    "colab_type": "code",
    "id": "syuXvEXox6jt"
   },
   "outputs": [
    {
     "name": "stdout",
     "output_type": "stream",
     "text": [
      "['Retrieving', 'words', 'having', 'least', 'characters']\n"
     ]
    }
   ],
   "source": [
    "#Write the regular expression and use proper method which Retrieves all words having at least 4 characters.\n",
    "#Output:- ['Retrieving', 'words', 'having', 'least', 'characters']\n",
    "import re\n",
    "str = \"Retrieving all words having at least 4 characters\"\n",
    "reg = r'\\w{4}\\w+'\n",
    "res = re.findall(reg,str)\n",
    "print(res)"
   ]
  },
  {
   "cell_type": "code",
   "execution_count": 103,
   "metadata": {
    "colab": {},
    "colab_type": "code",
    "id": "MtXo1Hf8x6ma"
   },
   "outputs": [
    {
     "name": "stdout",
     "output_type": "stream",
     "text": [
      "['all', 'words', 'least']\n"
     ]
    }
   ],
   "source": [
    "#Write the regular expression and use proper method which Retrieves all words having at characters between 3 to 5 words.\n",
    "#Output:- ['all', 'words', 'least']\n",
    "import re\n",
    "str = \"Retrieving all words having at least 4 characters\"\n",
    "reg = r'\\b\\w{3,5}\\b'\n",
    "res = re.findall(reg,str)\n",
    "print(res)\n"
   ]
  },
  {
   "cell_type": "code",
   "execution_count": 80,
   "metadata": {
    "colab": {},
    "colab_type": "code",
    "id": "RlvMct7xx6pE"
   },
   "outputs": [
    {
     "name": "stdout",
     "output_type": "stream",
     "text": [
      "['8', '11']\n"
     ]
    }
   ],
   "source": [
    "#Write the regular expression and use proper method which Retrieves only digits from the string.\n",
    "#Output:- ['8', '11']\n",
    "import re\n",
    "str = 'The election in delhi will be held on 8 and result for the same will be declared on 11'\n",
    "reg = r\"\\d+\"\n",
    "import re\n",
    "res = re.findall(reg,str)\n",
    "print(res)\n"
   ]
  },
  {
   "cell_type": "code",
   "execution_count": 79,
   "metadata": {
    "colab": {},
    "colab_type": "code",
    "id": "wdD4cSyJx6us"
   },
   "outputs": [
    {
     "name": "stdout",
     "output_type": "stream",
     "text": [
      "characters\n"
     ]
    }
   ],
   "source": [
    "#Write the regular expression and use proper method which Retrieves last word if starts with c from the given string.\n",
    "#Output:- ['characters']\n",
    "import re\n",
    "str = \"Retrieving all words having at least 4 characters\"\n",
    "pattern = re.compile(r\"(c\\w+)$\")\n",
    "has = pattern.search(str)\n",
    "print(has.group(0))\n"
   ]
  },
  {
   "cell_type": "code",
   "execution_count": 82,
   "metadata": {
    "colab": {},
    "colab_type": "code",
    "id": "HsVGzJVbx6sl"
   },
   "outputs": [
    {
     "name": "stdout",
     "output_type": "stream",
     "text": [
      "['1234567890']\n"
     ]
    }
   ],
   "source": [
    "#Write the regular expression and use proper method which Retrieves a phone number from the given string.\n",
    "#Output:- 1234567890\n",
    "import re\n",
    "str = \"Learnbay : 1234567890\"\n",
    "reg = r\"\\d+\"\n",
    "import re\n",
    "res = re.findall(reg,str)\n",
    "print(res)\n"
   ]
  },
  {
   "cell_type": "code",
   "execution_count": 72,
   "metadata": {
    "colab": {},
    "colab_type": "code",
    "id": "LvG3jTtvyQKk"
   },
   "outputs": [
    {
     "name": "stdout",
     "output_type": "stream",
     "text": [
      "Learnbay : \n"
     ]
    }
   ],
   "source": [
    "##Write the regular expression and use proper method which Etracts name from the string but not number.\n",
    "#Output:- Learnbay : \n",
    "import re\n",
    "str = \"Learnbay : 1234567890\"\n",
    "reg = r\"\\d+\"\n",
    "import re\n",
    "res = re.sub(reg, '',str)\n",
    "print(res)\n"
   ]
  },
  {
   "cell_type": "code",
   "execution_count": 62,
   "metadata": {
    "colab": {},
    "colab_type": "code",
    "id": "drArGXgKyQNz"
   },
   "outputs": [
    {
     "name": "stdout",
     "output_type": "stream",
     "text": [
      "['anil', 'akhil', 'anant', 'ankur']\n"
     ]
    }
   ],
   "source": [
    "##Write the regular expression and use proper method which Retrieves name starting with 'an' or 'ak'.\n",
    "#Output:- ['anil', 'akhil', 'anant', 'ankur']\n",
    "import re\n",
    "str = 'anil akhil anant abhi arun arati arundhati abhijit ankur'\n",
    "reg = r\"an\\w+|ak\\w+\"\n",
    "import re\n",
    "res = re.findall(reg, str)\n",
    "print(res)\n",
    "\n"
   ]
  }
 ],
 "metadata": {
  "colab": {
   "name": "Regular_Expression.ipynb",
   "provenance": []
  },
  "kernelspec": {
   "display_name": "Python 3",
   "language": "python",
   "name": "python3"
  },
  "language_info": {
   "codemirror_mode": {
    "name": "ipython",
    "version": 3
   },
   "file_extension": ".py",
   "mimetype": "text/x-python",
   "name": "python",
   "nbconvert_exporter": "python",
   "pygments_lexer": "ipython3",
   "version": "3.7.6"
  }
 },
 "nbformat": 4,
 "nbformat_minor": 1
}
