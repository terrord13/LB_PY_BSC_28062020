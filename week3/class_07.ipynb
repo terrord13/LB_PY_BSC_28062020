{
 "cells": [
  {
   "cell_type": "code",
   "execution_count": 1,
   "metadata": {
    "scrolled": true
   },
   "outputs": [
    {
     "name": "stdout",
     "output_type": "stream",
     "text": [
      "0\n"
     ]
    },
    {
     "ename": "UnsupportedOperation",
     "evalue": "not readable",
     "output_type": "error",
     "traceback": [
      "\u001b[1;31m---------------------------------------------------------------------------\u001b[0m",
      "\u001b[1;31mUnsupportedOperation\u001b[0m                      Traceback (most recent call last)",
      "\u001b[1;32m<ipython-input-1-8d1c2886361f>\u001b[0m in \u001b[0;36m<module>\u001b[1;34m\u001b[0m\n\u001b[0;32m     55\u001b[0m \u001b[0mf\u001b[0m \u001b[1;33m=\u001b[0m \u001b[0mopen\u001b[0m\u001b[1;33m(\u001b[0m\u001b[1;34m'abc1.txt'\u001b[0m\u001b[1;33m,\u001b[0m  \u001b[1;34m'a'\u001b[0m\u001b[1;33m)\u001b[0m\u001b[1;33m\u001b[0m\u001b[1;33m\u001b[0m\u001b[0m\n\u001b[0;32m     56\u001b[0m \u001b[0mprint\u001b[0m\u001b[1;33m(\u001b[0m\u001b[0mf\u001b[0m\u001b[1;33m.\u001b[0m\u001b[0mtell\u001b[0m\u001b[1;33m(\u001b[0m\u001b[1;33m)\u001b[0m\u001b[1;33m)\u001b[0m\u001b[1;33m\u001b[0m\u001b[1;33m\u001b[0m\u001b[0m\n\u001b[1;32m---> 57\u001b[1;33m \u001b[0mprint\u001b[0m\u001b[1;33m(\u001b[0m\u001b[0mf\u001b[0m\u001b[1;33m.\u001b[0m\u001b[0mread\u001b[0m\u001b[1;33m(\u001b[0m\u001b[1;33m)\u001b[0m\u001b[1;33m)\u001b[0m\u001b[1;33m\u001b[0m\u001b[1;33m\u001b[0m\u001b[0m\n\u001b[0m\u001b[0;32m     58\u001b[0m \u001b[0mf\u001b[0m\u001b[1;33m.\u001b[0m\u001b[0mwrite\u001b[0m\u001b[1;33m(\u001b[0m\u001b[1;34m'Hello'\u001b[0m\u001b[1;33m)\u001b[0m\u001b[1;33m\u001b[0m\u001b[1;33m\u001b[0m\u001b[0m\n\u001b[0;32m     59\u001b[0m \u001b[1;31m# print(f.read())\u001b[0m\u001b[1;33m\u001b[0m\u001b[1;33m\u001b[0m\u001b[1;33m\u001b[0m\u001b[0m\n",
      "\u001b[1;31mUnsupportedOperation\u001b[0m: not readable"
     ]
    }
   ],
   "source": [
    "# File Handling - Text,binary file, csv, excel\n",
    "\n",
    "# open, close\n",
    "\n",
    "# f = open('file_name with extension', 'mode')\n",
    "# # f.read\n",
    "# f.close()\n",
    "\n",
    "# Mode - read(r), write(w), append(a), read and write(r+), write and read(w+), append and read(a+) - Text\n",
    "# Binary - rb,wb, ab, rb+/r+b, wb+/w+b, ab+/a+b\n",
    "\n",
    "# Read - r- \n",
    "# It allows you to read the file only, you are not allowed to write into the file.\n",
    "# If the file exist, then it will open the file in read mode and cursor will be placed at the begning of the file.\n",
    "# If the file does not exist, then it will give FileNotFoundError\n",
    "# f.tell()- current position of your cursor\n",
    "\n",
    "# f = open('abc.txt',  'r')\n",
    "# print(f.tell())\n",
    "# print(f.read())\n",
    "# print(f.tell())\n",
    "# f.write('Hello')\n",
    "# f.close()\n",
    "\n",
    "# Write mode - w -> f=open('File_name', 'w')\n",
    "# It allows you to write into the file only, you are not allowed to read from the file.\n",
    "# If the file exist, then it will open the file in write mode and will place the cursor at the begining of the file \n",
    "    # after deleting the content of the file.\n",
    "# If the file does not exist, then it will create a file with the given name.\n",
    "# f = open('abc.txt',  'w')\n",
    "# print(f.tell())\n",
    "# # print(f.read())\n",
    "# f.write('Hello')\n",
    "# print(f.tell())\n",
    "# f.close()\n",
    "\n",
    "# f = open('f1.txt',  'w')\n",
    "# print(f.tell())\n",
    "# # print(f.read())\n",
    "# # f.write('Hello')\n",
    "# print(f.tell())\n",
    "# f.close()\n",
    "\n",
    "# append mode - a -> f=open('File_name', 'a')\n",
    "# It allows you to write into the file only, you are not allowed to read from the file.\n",
    "# If the file exist, then it will open the file and the cursor will be placed at the end of the file.\n",
    "# If the file does not exist, then it will create a file with the given name.\n",
    "# f = open('abc.txt',  'a')\n",
    "# print(f.tell())\n",
    "# print(f.read())\n",
    "# f.write('\\nHello')\n",
    "# print(f.tell())\n",
    "# f.close()\n",
    "\n",
    "f = open('abc1.txt',  'a')\n",
    "print(f.tell())\n",
    "print(f.read())\n",
    "f.write('Hello')\n",
    "# print(f.read())\n",
    "print(f.tell())\n",
    "f.close()\n",
    "\n",
    "\n",
    "# Read and write mode - r+ -> f=open('File_name', 'r+')\n",
    "# It allows you to read and write both into the file.\n",
    "# If the file exist, then it will open the file in read mode and cursor will be placed at the begning of the file.\n",
    "# If the file does not exist, then it will give FileNotFoundError.\n",
    "\n",
    "# f = open('abc.txt',  'r+')\n",
    "# print(f.tell())\n",
    "# print(f.read())\n",
    "# f.write('\\nHello')\n",
    "# f.seek(0)\n",
    "# print(f.read())\n",
    "# print(f.tell())\n",
    "# f.close()\n",
    "\n",
    "# f = open('abc.txt',  'r+')\n",
    "# print(f.tell())\n",
    "# print(f.read())\n",
    "# f.write('Hello')\n",
    "# print(f.tell())\n",
    "# f.seek(0)\n",
    "# print(f.read())\n",
    "# f.close()\n",
    "\n",
    "# Write and read mode - w+ -> f=open('File_name', 'w+')\n",
    "# It allows you to write and read from the file.\n",
    "# If the file exist, then it will open the file in write mode and will place the cursor at the begining of the file \n",
    "    # after deleting the content of the file.\n",
    "# If the file does not exist, then it will create a file with the given name.\n",
    "# f = open('abc1.txt',  'w+')\n",
    "# print(f.tell())\n",
    "# print(f.read())\n",
    "# f.write('Hello')\n",
    "# f.seek(0)\n",
    "# print(f.read())\n",
    "# # print(f.tell())\n",
    "# # print(f.read())\n",
    "# f.close()\n",
    "\n",
    "# f = open('abc1.txt',  'w+')\n",
    "# print(f.tell())\n",
    "# f.write('Hello')\n",
    "# print(f.tell())\n",
    "# f.seek(0)\n",
    "# print(f.read())\n",
    "# f.close()\n",
    "\n",
    "# append and read mode - a+ -> f=open('File_name', 'a+')\n",
    "# It allows you to write and read into the file.\n",
    "# If the file exist, then it will open the file and the cursor will be placed at the end of the file.\n",
    "# If the file does not exist, then it will create a file with the given name.\n"
   ]
  },
  {
   "cell_type": "code",
   "execution_count": 17,
   "metadata": {},
   "outputs": [
    {
     "name": "stdout",
     "output_type": "stream",
     "text": [
      "Lorem Ipsum is simply dummy text of the printing and typesetting industry. \n",
      "Lorem Ipsum has been the industry's standard dummy text ever since the 1500s, when an unknown printer took a galley of type and scrambled it to make a type specimen book. \n",
      "It has survived not only five centuries, but also the leap into electronic typesetting, remaining essentially unchanged. \n",
      "It was popularised in the 1960s with the release of Letraset sheets containing Lorem Ipsum passages, and more recently with desktop publishing software like Aldus PageMaker including versions of Lorem Ipsum.\n",
      "It is a long established fact that a reader will be distracted by the readable content of a page when looking at its layout. \n",
      "The point of using Lorem Ipsum is that it has a more-or-less normal distribution of letters, as opposed to using 'Content here, content here', making it look like readable English. \n",
      "Many desktop publishing packages and web page editors now use Lorem Ipsum as their default model text, and a search for 'lorem ipsum' will uncover many web sites still in their infancy. \n",
      "Various versions have evolved over the years, sometimes by accident, sometimes on purpose (injected humour and the like).\n",
      "\n"
     ]
    }
   ],
   "source": [
    "# methods to read from the file\n",
    "# read() reads the whole content of the file and returns a string object\n",
    "# read(no of characters) - reads the methioned no of characters from the last position and returns a string object\n",
    "# readline() - reads one line at a time and returns string object\n",
    "# readlines() - reads the whole content of the file and returns a list object\n",
    "# f = open('abc.txt',  'a+')\n",
    "# f.seek(0)\n",
    "# print(f.readlines())\n",
    "# f.close()\n",
    "\n",
    "\n",
    "# Methods to write\n",
    "# write('string')\n",
    "# writelines(['str1\\n', 'str2\\n'.....])\n",
    "\n",
    "# f = open('f1.txt', 'w+')\n",
    "# f.writelines(['Lorem Ipsum is simply dummy text of the printing and typesetting industry. \\n', \"Lorem Ipsum has been the industry's standard dummy text ever since the 1500s, when an unknown printer took a galley of type and scrambled it to make a type specimen book. \\n\", 'It has survived not only five centuries, but also the leap into electronic typesetting, remaining essentially unchanged. \\n', 'It was popularised in the 1960s with the release of Letraset sheets containing Lorem Ipsum passages, and more recently with desktop publishing software like Aldus PageMaker including versions of Lorem Ipsum.\\n', 'It is a long established fact that a reader will be distracted by the readable content of a page when looking at its layout. \\n', \"The point of using Lorem Ipsum is that it has a more-or-less normal distribution of letters, as opposed to using 'Content here, content here', making it look like readable English. \\n\", \"Many desktop publishing packages and web page editors now use Lorem Ipsum as their default model text, and a search for 'lorem ipsum' will uncover many web sites still in their infancy. \\n\", 'Various versions have evolved over the years, sometimes by accident, sometimes on purpose (injected humour and the like).\\n'])\n",
    "# f.seek(0)\n",
    "# print(f.read())\n",
    "# f.close()"
   ]
  },
  {
   "cell_type": "code",
   "execution_count": null,
   "metadata": {},
   "outputs": [],
   "source": [
    "# Binary file - imgaes, video files, pdf\n",
    "# read mode - rb, write mode - wb, append mode - ab, read and write mode - rb+, write and read mode - wb+,append and read mode - ab+\n",
    "\n",
    "\n",
    "\n"
   ]
  },
  {
   "cell_type": "code",
   "execution_count": null,
   "metadata": {},
   "outputs": [],
   "source": [
    "# with open('abc.txt',  'a') as f:\n",
    "#     f.write()\n",
    "#     code 2\n",
    "#     code 3"
   ]
  },
  {
   "cell_type": "code",
   "execution_count": 23,
   "metadata": {},
   "outputs": [],
   "source": [
    "# Exception Handling - try, except, finally\n",
    "\n",
    "# f = open('abc.txt',  'a')\n",
    "# print(f.tell())\n",
    "# try:\n",
    "#     print(f.read())\n",
    "# except:\n",
    "#     print('Sone eror has occurred')\n",
    "# f.write('Hello')\n",
    "# print(f.tell())\n",
    "# f.close()\n"
   ]
  },
  {
   "cell_type": "code",
   "execution_count": 24,
   "metadata": {},
   "outputs": [],
   "source": [
    "# print(dir(__builtins__))"
   ]
  },
  {
   "cell_type": "code",
   "execution_count": 1,
   "metadata": {},
   "outputs": [
    {
     "name": "stdout",
     "output_type": "stream",
     "text": [
      "Can not divide by zero\n"
     ]
    },
    {
     "ename": "NameError",
     "evalue": "name 'res' is not defined",
     "output_type": "error",
     "traceback": [
      "\u001b[0;31m---------------------------------------------------------------------------\u001b[0m",
      "\u001b[0;31mNameError\u001b[0m                                 Traceback (most recent call last)",
      "\u001b[0;32m<ipython-input-1-19cb1fe5f989>\u001b[0m in \u001b[0;36m<module>\u001b[0;34m\u001b[0m\n\u001b[1;32m      5\u001b[0m \u001b[0;32mexcept\u001b[0m \u001b[0mZeroDivisionError\u001b[0m\u001b[0;34m:\u001b[0m\u001b[0;34m\u001b[0m\u001b[0;34m\u001b[0m\u001b[0m\n\u001b[1;32m      6\u001b[0m     \u001b[0mprint\u001b[0m\u001b[0;34m(\u001b[0m\u001b[0;34m'Can not divide by zero'\u001b[0m\u001b[0;34m)\u001b[0m\u001b[0;34m\u001b[0m\u001b[0;34m\u001b[0m\u001b[0m\n\u001b[0;32m----> 7\u001b[0;31m \u001b[0mprint\u001b[0m\u001b[0;34m(\u001b[0m\u001b[0mres\u001b[0m\u001b[0;34m)\u001b[0m\u001b[0;34m\u001b[0m\u001b[0;34m\u001b[0m\u001b[0m\n\u001b[0m\u001b[1;32m      8\u001b[0m \u001b[0mprint\u001b[0m\u001b[0;34m(\u001b[0m\u001b[0ma\u001b[0m\u001b[0;34m)\u001b[0m\u001b[0;34m\u001b[0m\u001b[0;34m\u001b[0m\u001b[0m\n\u001b[1;32m      9\u001b[0m \u001b[0mprint\u001b[0m\u001b[0;34m(\u001b[0m\u001b[0mb\u001b[0m\u001b[0;34m)\u001b[0m\u001b[0;34m\u001b[0m\u001b[0;34m\u001b[0m\u001b[0m\n",
      "\u001b[0;31mNameError\u001b[0m: name 'res' is not defined"
     ]
    }
   ],
   "source": [
    "a = 100\n",
    "b = 0\n",
    "try:\n",
    "    res = a/b\n",
    "    print(res)\n",
    "except ZeroDivisionError:\n",
    "    print('Can not divide by zero')\n",
    "\n",
    "print(a)\n",
    "print(b)"
   ]
  },
  {
   "cell_type": "code",
   "execution_count": 2,
   "metadata": {},
   "outputs": [
    {
     "name": "stdout",
     "output_type": "stream",
     "text": [
      "Division by zero is not possible\n",
      "Hello\n"
     ]
    }
   ],
   "source": [
    "a = 100\n",
    "b = 0\n",
    "try:\n",
    "    res = a/b\n",
    "    print(res)\n",
    "except ZeroDivisionError:\n",
    "    print('Division by zero is not possible')\n",
    "except ArithmeticError as e:\n",
    "    print('some error',e)\n",
    "except NameError:\n",
    "    print('some name is not defined')\n",
    "# except:\n",
    "#     print(\"Some Error has occured\"\n",
    "finally:\n",
    "    del a\n",
    "    del b\n",
    "print('Hello')"
   ]
  },
  {
   "cell_type": "code",
   "execution_count": 5,
   "metadata": {},
   "outputs": [
    {
     "ename": "SyntaxError",
     "evalue": "default 'except:' must be last (<ipython-input-5-4609a35a292b>, line 8)",
     "output_type": "error",
     "traceback": [
      "\u001b[0;36m  File \u001b[0;32m\"<ipython-input-5-4609a35a292b>\"\u001b[0;36m, line \u001b[0;32m8\u001b[0m\n\u001b[0;31m    except ArithmeticError as e:\u001b[0m\n\u001b[0m                     ^\u001b[0m\n\u001b[0;31mSyntaxError\u001b[0m\u001b[0;31m:\u001b[0m default 'except:' must be last\n"
     ]
    }
   ],
   "source": [
    "a = 100\n",
    "b = 0\n",
    "try:\n",
    "    res = a/b\n",
    "    print(res)\n",
    "except ArithmeticError as e:\n",
    "    print('some error',e)\n",
    "except NameError:\n",
    "    print('some name is not defined')\n",
    "except:\n",
    "    print(\"Some Error has occured\")\n",
    "finally:\n",
    "    del a\n",
    "    del b\n",
    "print('Hello')"
   ]
  },
  {
   "cell_type": "code",
   "execution_count": 7,
   "metadata": {},
   "outputs": [
    {
     "name": "stdout",
     "output_type": "stream",
     "text": [
      "Enter an amount you want to withdraw: 20000\n",
      "You may withdraw this amount\n"
     ]
    }
   ],
   "source": [
    "# raise\n",
    "class User_defined(Exception):\n",
    "    def __init__(self, msg):\n",
    "        self.msg = msg\n",
    "\n",
    "withdraw_amt = int(input('Enter an amount you want to withdraw: '))\n",
    "if withdraw_amt>49999:\n",
    "    raise User_defined('It is quite large amount to withdraw')\n",
    "else:\n",
    "    print('You may withdraw this amount')"
   ]
  },
  {
   "cell_type": "markdown",
   "metadata": {},
   "source": [
    "# Modules"
   ]
  },
  {
   "cell_type": "code",
   "execution_count": 9,
   "metadata": {},
   "outputs": [
    {
     "data": {
      "text/plain": [
       "2.0"
      ]
     },
     "execution_count": 9,
     "metadata": {},
     "output_type": "execute_result"
    }
   ],
   "source": [
    "import math\n",
    "math.sqrt(4)"
   ]
  },
  {
   "cell_type": "code",
   "execution_count": 1,
   "metadata": {},
   "outputs": [
    {
     "name": "stdout",
     "output_type": "stream",
     "text": [
      "In my_file - add function\n",
      "10\n",
      "20\n",
      "30\n"
     ]
    }
   ],
   "source": [
    "import my_file\n",
    "# print(dir())\n",
    "# print(dir(my_file))\n",
    "my_file.add(10,20)"
   ]
  },
  {
   "cell_type": "code",
   "execution_count": 2,
   "metadata": {},
   "outputs": [
    {
     "name": "stdout",
     "output_type": "stream",
     "text": [
      "3.141592653589793\n"
     ]
    }
   ],
   "source": [
    "# import math\n",
    "# print(math.pi)"
   ]
  },
  {
   "cell_type": "code",
   "execution_count": 4,
   "metadata": {},
   "outputs": [
    {
     "name": "stdout",
     "output_type": "stream",
     "text": [
      "['In', 'Out', '_', '__', '___', '__builtin__', '__builtins__', '__doc__', '__loader__', '__name__', '__package__', '__spec__', '_dh', '_i', '_i1', '_i2', '_i3', '_i4', '_ih', '_ii', '_iii', '_oh', 'acos', 'acosh', 'asin', 'asinh', 'atan', 'atan2', 'atanh', 'ceil', 'copysign', 'cos', 'cosh', 'degrees', 'e', 'erf', 'erfc', 'exit', 'exp', 'expm1', 'fabs', 'factorial', 'floor', 'fmod', 'frexp', 'fsum', 'gamma', 'gcd', 'get_ipython', 'hypot', 'inf', 'isclose', 'isfinite', 'isinf', 'isnan', 'ldexp', 'lgamma', 'log', 'log10', 'log1p', 'log2', 'math', 'modf', 'my_file', 'nan', 'pi', 'pow', 'quit', 'radians', 'remainder', 'sin', 'sinh', 'sqrt', 'tan', 'tanh', 'tau', 'trunc']\n",
      "2.0\n"
     ]
    }
   ],
   "source": [
    "# from math import *\n",
    "# print(dir())\n",
    "# print(sqrt(4))"
   ]
  },
  {
   "cell_type": "code",
   "execution_count": 5,
   "metadata": {},
   "outputs": [],
   "source": [
    "# from math import sqrt\n",
    "# print(dir())\n",
    "# print(sqrt(4))\n",
    "# print(math.pi)"
   ]
  },
  {
   "cell_type": "code",
   "execution_count": 8,
   "metadata": {},
   "outputs": [
    {
     "name": "stdout",
     "output_type": "stream",
     "text": [
      "In my_file - add function\n",
      "3\n",
      "4\n",
      "7\n"
     ]
    }
   ],
   "source": [
    "# from my_file import add\n",
    "# add(3,4)\n",
    "# mul()"
   ]
  },
  {
   "cell_type": "code",
   "execution_count": 11,
   "metadata": {},
   "outputs": [
    {
     "name": "stdout",
     "output_type": "stream",
     "text": [
      "['In', 'Out', '_', '__', '___', '__builtin__', '__builtins__', '__doc__', '__loader__', '__name__', '__package__', '__spec__', '_dh', '_i', '_i1', '_i10', '_i11', '_i2', '_i3', '_i4', '_i5', '_i6', '_i7', '_i8', '_i9', '_ih', '_ii', '_iii', '_oh', 'add', 'exit', 'get_ipython', 'mf', 'quit', 'sqrt']\n",
      "In my_file - mul function\n",
      "100\n",
      "200\n",
      "20000\n"
     ]
    }
   ],
   "source": [
    "# import my_file as mf\n",
    "# print(dir())\n",
    "# mf.mul()"
   ]
  },
  {
   "cell_type": "code",
   "execution_count": 1,
   "metadata": {},
   "outputs": [],
   "source": [
    "# import my_file"
   ]
  },
  {
   "cell_type": "code",
   "execution_count": 2,
   "metadata": {},
   "outputs": [],
   "source": [
    "import my_file\n"
   ]
  },
  {
   "cell_type": "code",
   "execution_count": null,
   "metadata": {},
   "outputs": [],
   "source": []
  },
  {
   "cell_type": "code",
   "execution_count": null,
   "metadata": {},
   "outputs": [],
   "source": []
  }
 ],
 "metadata": {
  "kernelspec": {
   "display_name": "Python 3",
   "language": "python",
   "name": "python3"
  },
  "language_info": {
   "codemirror_mode": {
    "name": "ipython",
    "version": 3
   },
   "file_extension": ".py",
   "mimetype": "text/x-python",
   "name": "python",
   "nbconvert_exporter": "python",
   "pygments_lexer": "ipython3",
   "version": "3.7.6"
  }
 },
 "nbformat": 4,
 "nbformat_minor": 2
}
