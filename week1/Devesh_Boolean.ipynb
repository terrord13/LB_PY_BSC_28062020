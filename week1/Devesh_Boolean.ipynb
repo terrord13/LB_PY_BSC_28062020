{
 "cells": [
  {
   "cell_type": "code",
   "execution_count": 1,
   "metadata": {
    "colab": {},
    "colab_type": "code",
    "id": "7JIFn6BP4M0R"
   },
   "outputs": [
    {
     "name": "stdout",
     "output_type": "stream",
     "text": [
      "<class 'bool'>\n",
      "True\n",
      "140711149676880\n"
     ]
    }
   ],
   "source": [
    "#Declare a boolean value and store it in a variable. \n",
    "\n",
    "#Check the type and print the id of the same.\n",
    "\n",
    "boolVal = True\n",
    "print(type(boolVal))\n",
    "print(type(boolVal) is bool)\n",
    "print(id(boolVal))\n",
    "\n"
   ]
  },
  {
   "cell_type": "code",
   "execution_count": 2,
   "metadata": {
    "colab": {},
    "colab_type": "code",
    "id": "o9bjjhN64kAP"
   },
   "outputs": [
    {
     "name": "stdout",
     "output_type": "stream",
     "text": [
      "140711149676880\n",
      "140711149676880\n"
     ]
    }
   ],
   "source": [
    "#Take one boolean value between 0 - 256.\n",
    "#Assign it to two different variables.\n",
    "\n",
    "#Check the id of both the variables. It should come same. Check why?\n",
    "\n",
    "boolVal1 = True\n",
    "boolVal2 = True\n",
    "\n",
    "print(id(boolVal1))\n",
    "print(id(boolVal2))\n",
    "\n",
    "# Ans: Ids for both objects were same as object resuability is applied on the boolean values"
   ]
  },
  {
   "cell_type": "code",
   "execution_count": 6,
   "metadata": {
    "colab": {},
    "colab_type": "code",
    "id": "yr4ETGSf4l5y"
   },
   "outputs": [
    {
     "name": "stdout",
     "output_type": "stream",
     "text": [
      "1\n",
      "1\n",
      "0\n",
      "1\n"
     ]
    }
   ],
   "source": [
    "#Arithmatic Operations on boolean data\n",
    "#Take two different boolean values.\n",
    "#Store them in two different variables.\n",
    "\n",
    "\n",
    "\n",
    "#Do below operations on them:-\n",
    "    #Find sum of both values\n",
    "    #Find differce between them\n",
    "    #Find the product of both.\n",
    "    #Find value after dividing first value with second value\n",
    "    #Find the remainder after dividing first value with second value\n",
    "    #Find the quotient after dividing first value with second value\n",
    "    #Find the result of first value to the power of second value.\n",
    "    \n",
    "boolVal1 = True\n",
    "boolVal2 = False\n",
    "print(boolVal1 + boolVal2)     # Addition of two numbers  Output : 1\n",
    "print(boolVal1 - boolVal2)     # Difference of two numbers Output : 1\n",
    "print(boolVal1 * boolVal2)     # Product of two numbers Output : 0\n",
    "print(pow(boolVal1,boolVal2))  # Num1 Power Num2 Output : 1\n",
    "\n",
    "\n",
    "# Division, Mod and Quotient is not allowed on the boolean numbers\n"
   ]
  },
  {
   "cell_type": "code",
   "execution_count": 9,
   "metadata": {
    "colab": {},
    "colab_type": "code",
    "id": "xG4mX84E4n2O"
   },
   "outputs": [
    {
     "name": "stdout",
     "output_type": "stream",
     "text": [
      "False\n",
      "True\n",
      "False\n",
      "True\n",
      "True\n",
      "False\n",
      "True\n",
      "False\n"
     ]
    }
   ],
   "source": [
    "#Comparison Operators on boolean values\n",
    "#Take two different boolean values.\n",
    "#Store them in two different variables.\n",
    "\n",
    "#Do below operations on them:-\n",
    "    #Compare these two values with below operator:-\n",
    "        #Greater than, '>'\n",
    "        #less than, '<'\n",
    "        #Greater than or equal to, '>='\n",
    "        #Less than or equal to, '<='    \n",
    "#Observe their output(return type should be boolean)\n",
    "\n",
    "boolVal1 = True\n",
    "boolVal2 = False\n",
    "print(boolVal1 < boolVal2)    # boolVal1 is not lesser than boolVal2 expecting [false]  \n",
    "print(boolVal1 > boolVal2)    # boolVal1 is bigger than boolVal2 expecting [true]\n",
    "print(boolVal1 <= boolVal2)   # boolVal1 is not lesser boolVal2 num4 expecting [false]\n",
    "print(boolVal1 >= boolVal2)   # boolVal1 is bigger than boolVal2 expecting [true]\n",
    "\n",
    "\n",
    "boolVal1 = False\n",
    "boolVal2 = True\n",
    "print(boolVal1 < boolVal2)    # boolVal1boolVal1 is lesser than boolVal2 expecting [true]\n",
    "print(boolVal1 > boolVal2)    # boolVal1boolVal1 is not bigger than boolVal2 expecting [false]\n",
    "print(boolVal1 <= boolVal2)   # boolVal1boolVal1 is lesser than boolVal2 expecting [true]\n",
    "print(boolVal1 >= boolVal2)   # boolVal1boolVal1 is not bigger than boolVal2 expecting [False]\n"
   ]
  },
  {
   "cell_type": "code",
   "execution_count": 10,
   "metadata": {
    "colab": {},
    "colab_type": "code",
    "id": "TUIo2Z9V4qBJ"
   },
   "outputs": [
    {
     "name": "stdout",
     "output_type": "stream",
     "text": [
      "False\n",
      "True\n"
     ]
    }
   ],
   "source": [
    "#Equality Operator\n",
    "#Take two different boolean values.\n",
    "#Store them in two different variables.\n",
    "\n",
    "#Equuate them using equality operator (==, !=)\n",
    "\n",
    "#Observe the output(return type should be boolean)\n",
    "\n",
    "boolVal1 = True\n",
    "boolVal2 = False\n",
    "print(boolVal1 == boolVal2)    # boolVal1 is not equal to boolVal2, expecting[false]\n",
    "print(boolVal1 != boolVal2)    # boolVal1 is not equal to boolVal2, expecting[true]\n"
   ]
  },
  {
   "cell_type": "code",
   "execution_count": 11,
   "metadata": {
    "colab": {},
    "colab_type": "code",
    "id": "XukEq5E44rxv"
   },
   "outputs": [
    {
     "name": "stdout",
     "output_type": "stream",
     "text": [
      "True\n",
      "False\n",
      "False\n",
      "False\n",
      "True\n",
      "True\n",
      "True\n",
      "False\n",
      "False\n",
      "True\n"
     ]
    }
   ],
   "source": [
    "#Logical operators\n",
    "#Observe the output of below code\n",
    "#Cross check the output manually\n",
    "\n",
    "print(True and True)        #----------------------------------------->Output is True\n",
    "print(False and True)        #----------------------------------------->Output is False\n",
    "print(True and False)        #----------------------------------------->Output is False\n",
    "print(False and False)       #----------------------------------------->Output is False\n",
    "\n",
    "print(True or True)          #----------------------------------------->Output is True\n",
    "print(False or True)         #----------------------------------------->Output is True\n",
    "print(True or False)         #----------------------------------------->Output is True\n",
    "print(False or False)        #----------------------------------------->Output is False\n",
    "\n",
    "print(not True)              #----------------------------------------->Output is False\n",
    "print(not False)             #----------------------------------------->Output is True"
   ]
  },
  {
   "cell_type": "code",
   "execution_count": 15,
   "metadata": {
    "colab": {},
    "colab_type": "code",
    "id": "02jPgt094vK-"
   },
   "outputs": [
    {
     "name": "stdout",
     "output_type": "stream",
     "text": [
      "True\n",
      "True\n",
      "True\n",
      "-2\n",
      "4\n",
      "0\n"
     ]
    }
   ],
   "source": [
    "#Bitwise Operators\n",
    "#Do below operations on the values provided below:-\n",
    "    #Bitwise and(&) -----------------------------------------> True, True    -------> Output is True\n",
    "    \n",
    "    #Bitwise or(|)  -----------------------------------------> True, False   -------> Output is True\n",
    "\n",
    "    #Bitwise(^)     -----------------------------------------> True, False   -------> Output is True\n",
    "\n",
    "    #Bitwise negation(~) ------------------------------------> True          -------> Output is -2\n",
    "\n",
    "    #Bitwise left shift  ------------------------------------> True,2        -------> Output is 4\n",
    "\n",
    "    #Bitwise right shift ------------------------------------> True,2        -------> Output is 0\n",
    "\n",
    "\n",
    "\n",
    "#Cross check the output manually\n",
    "\n",
    "print(True & True)         #Output : True\n",
    "print(True | False)        #Output : True\n",
    "print(True ^ False)        #Output : True\n",
    "print(~True)               #Output : -2\n",
    "print(True << 2)           #Output : 4\n",
    "print(True >> 2)           #Output : 0\n"
   ]
  },
  {
   "cell_type": "code",
   "execution_count": 12,
   "metadata": {
    "colab": {},
    "colab_type": "code",
    "id": "cy5i7sWz4v_c"
   },
   "outputs": [
    {
     "name": "stdout",
     "output_type": "stream",
     "text": [
      "True\n",
      "False\n",
      "True\n",
      "False\n"
     ]
    }
   ],
   "source": [
    "#What is the output of expression inside print statement. Cross check before running the program.\n",
    "a = True\n",
    "b = True\n",
    "print(a is b)          #True or False?   #True\n",
    "print(a is not b)      #True or False?   #False\n",
    "\n",
    "a = False\n",
    "b = False\n",
    "print(a is b)          #True or False?   #True\n",
    "print(a is not b)      #True or False?   #False\n"
   ]
  },
  {
   "cell_type": "code",
   "execution_count": 14,
   "metadata": {
    "colab": {},
    "colab_type": "code",
    "id": "AOcPQi8544M-"
   },
   "outputs": [
    {
     "name": "stdout",
     "output_type": "stream",
     "text": [
      "True\n",
      "True\n",
      "True\n",
      "True\n",
      "True\n"
     ]
    }
   ],
   "source": [
    "#Membership operation\n",
    "#in, not in are two membership operators and it returns boolean value\n",
    "\n",
    "print(True in [10,10.20,10+20j,'Python', True])    #True\n",
    "print(False in (10,10.20,10+20j,'Python', False))  #True\n",
    "print(True in {1,2,3, True})                       #True\n",
    "print(True in {True:100, False:200, True:300})     #True\n",
    "print(False in {True:100, False:200, True:300})    #True"
   ]
  },
  {
   "cell_type": "code",
   "execution_count": null,
   "metadata": {
    "colab": {},
    "colab_type": "code",
    "id": "MPa1Lpco46Ja"
   },
   "outputs": [],
   "source": []
  }
 ],
 "metadata": {
  "colab": {
   "name": "Boolean_Assignement.ipynb",
   "provenance": []
  },
  "kernelspec": {
   "display_name": "Python 3",
   "language": "python",
   "name": "python3"
  },
  "language_info": {
   "codemirror_mode": {
    "name": "ipython",
    "version": 3
   },
   "file_extension": ".py",
   "mimetype": "text/x-python",
   "name": "python",
   "nbconvert_exporter": "python",
   "pygments_lexer": "ipython3",
   "version": "3.7.6"
  }
 },
 "nbformat": 4,
 "nbformat_minor": 1
}
